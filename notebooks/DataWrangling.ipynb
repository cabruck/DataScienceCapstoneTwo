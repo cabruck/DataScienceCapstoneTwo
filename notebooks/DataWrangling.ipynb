{
 "cells": [
  {
   "cell_type": "markdown",
   "id": "4f653c8f",
   "metadata": {},
   "source": [
    "### CapstoneTwo: Genotyping SNP classification\n",
    "Carsten Bruckner\n",
    "\n",
    "## Step 1: Data Wrangling\n",
    "* read a probeset performance file that summarizes >800,000 probesets' performance into a number of figures of merit, like call rate\n",
    "* read a similar file of predictor metrics that in this case summarizes some of these probesets' agreement with reference data (1000Genomes project) and Reproducibility.\n",
    "* preprocess these files to exclude measurements from non-standard probesets, which use different sets of metrics and may not be comparable to standard \"diploid, biallelic\" probesets."
   ]
  },
  {
   "cell_type": "code",
   "execution_count": null,
   "id": "b6739055",
   "metadata": {},
   "outputs": [],
   "source": [
    "%reset"
   ]
  },
  {
   "cell_type": "code",
   "execution_count": 1,
   "id": "919112bb",
   "metadata": {},
   "outputs": [],
   "source": [
    "import pandas as pd\n",
    "import os\n",
    "from zipfile import ZipFile\n",
    "import pandas_profiling"
   ]
  },
  {
   "cell_type": "code",
   "execution_count": 2,
   "id": "335f840b",
   "metadata": {},
   "outputs": [
    {
     "data": {
      "text/plain": [
       "'/Users/Carsten/OneDrive/Documents/Springboard/git_repositories/DataScienceCapstoneTwo/notebooks'"
      ]
     },
     "execution_count": 2,
     "metadata": {},
     "output_type": "execute_result"
    }
   ],
   "source": [
    "pwd"
   ]
  },
  {
   "cell_type": "code",
   "execution_count": 3,
   "id": "5191f381",
   "metadata": {},
   "outputs": [],
   "source": [
    "# os.chdir('/Users/Carsten/OneDrive/Documents/Springboard/git_repositories/DataScienceCapstoneTwo/Notebooks')"
   ]
  },
  {
   "cell_type": "code",
   "execution_count": 4,
   "id": "39aa4042",
   "metadata": {},
   "outputs": [],
   "source": [
    "zip_absolute_path = '/Users/Carsten/OneDrive/Documents/Springboard/git_repositories/DataScienceCapstoneTwo/raw_data/Output.allps.zip'"
   ]
  },
  {
   "cell_type": "code",
   "execution_count": 5,
   "id": "ef2b985e",
   "metadata": {},
   "outputs": [
    {
     "data": {
      "text/plain": [
       "'../raw_data/Output.allps.zip'"
      ]
     },
     "execution_count": 5,
     "metadata": {},
     "output_type": "execute_result"
    }
   ],
   "source": [
    "zip_relative_path = os.path.relpath(zip_absolute_path)\n",
    "zip_relative_path"
   ]
  },
  {
   "cell_type": "code",
   "execution_count": 6,
   "id": "36dc5a21",
   "metadata": {},
   "outputs": [
    {
     "name": "stderr",
     "output_type": "stream",
     "text": [
      "/Users/Carsten/opt/anaconda3/envs/springboard/lib/python3.8/site-packages/IPython/core/interactiveshell.py:3165: DtypeWarning: Columns (2) have mixed types.Specify dtype option on import or set low_memory=False.\n",
      "  has_raised = await self.run_ast_nodes(code_ast.body, cell_name,\n"
     ]
    }
   ],
   "source": [
    "# Raw data files inside zip package, paths relative to project's Notebooks directory\n",
    "zip_file = ZipFile('../raw_data/Output_allps.zip')\n",
    "ps_file = zip_file.open('Output_allps/genotype-inliers/filtered/Ps.performance.txt')\n",
    "snp_file = zip_file.open('Output_allps/genotype-inliers-gtools/SnpSummary/Axiom_CombinedSnpSummary_0.15.txt')\n",
    "\n",
    "# while testing notebook, only read first 1000 rows\n",
    "# warning! if call a second time, might read next 1000 rows, so need\n",
    "# to recreate file handle ps_file earlier in this cell\n",
    "ps_df = pd.read_csv(ps_file,delimiter='\\t',skiprows=89)\n",
    "#ps_df = pd.read_csv(ps_file,delimiter='\\t',skiprows=89,nrows=1000)\n",
    "\n",
    "# might be better to load entire thing,\n",
    "# and then randomly sample rows for compute intensive operations using\n",
    "# sample_df = df.sample(n_rows)"
   ]
  },
  {
   "cell_type": "markdown",
   "id": "8279230a",
   "metadata": {},
   "source": [
    "Could mixed type warning for 3rd column 'multi_snp_id' be because the string is sometimes 'NaN' ?"
   ]
  },
  {
   "cell_type": "code",
   "execution_count": 7,
   "id": "f66b0f6f",
   "metadata": {},
   "outputs": [
    {
     "data": {
      "text/plain": [
       "884158"
      ]
     },
     "execution_count": 7,
     "metadata": {},
     "output_type": "execute_result"
    }
   ],
   "source": [
    "#check number of rows loaded\n",
    "len(ps_df)"
   ]
  },
  {
   "cell_type": "code",
   "execution_count": null,
   "id": "758dd5a8",
   "metadata": {},
   "outputs": [],
   "source": [
    "# takes many minutes !  Slows when doing correlations.  Eventually crashes with these settings.\n",
    "#profile_report = ps_df.profile_report(html={'style': {'full_width': True}})\n",
    "#profile_report.to_file(\"reports/ps_file.html\")\n"
   ]
  },
  {
   "cell_type": "code",
   "execution_count": null,
   "id": "588ee32d",
   "metadata": {},
   "outputs": [],
   "source": [
    "#del profile_report      #still doesn't help if change next input parameters and rerun"
   ]
  },
  {
   "cell_type": "code",
   "execution_count": 9,
   "id": "872f2762",
   "metadata": {
    "scrolled": true
   },
   "outputs": [
    {
     "data": {
      "application/vnd.jupyter.widget-view+json": {
       "model_id": "2756b7ab44b048fd878e447663797f48",
       "version_major": 2,
       "version_minor": 0
      },
      "text/plain": [
       "Summarize dataset:   0%|          | 0/101 [00:00<?, ?it/s]"
      ]
     },
     "metadata": {},
     "output_type": "display_data"
    },
    {
     "name": "stderr",
     "output_type": "stream",
     "text": [
      "/Users/Carsten/opt/anaconda3/envs/springboard/lib/python3.8/site-packages/pandas_profiling/model/correlations.py:101: UserWarning: There was an attempt to calculate the cramers correlation, but this failed.\n",
      "To hide this warning, disable the calculation\n",
      "(using `df.profile_report(correlations={\"cramers\": {\"calculate\": False}})`\n",
      "If this is problematic for your use case, please report this as an issue:\n",
      "https://github.com/pandas-profiling/pandas-profiling/issues\n",
      "(include the error message: 'No data; `observed` has size 0.')\n",
      "  warnings.warn(\n"
     ]
    },
    {
     "data": {
      "application/vnd.jupyter.widget-view+json": {
       "model_id": "1ca9e7cf4e274f87819f68f22e4a8c71",
       "version_major": 2,
       "version_minor": 0
      },
      "text/plain": [
       "Generate report structure:   0%|          | 0/1 [00:00<?, ?it/s]"
      ]
     },
     "metadata": {},
     "output_type": "display_data"
    },
    {
     "data": {
      "application/vnd.jupyter.widget-view+json": {
       "model_id": "4b0e08747a564cab883f68797a305a54",
       "version_major": 2,
       "version_minor": 0
      },
      "text/plain": [
       "Render HTML:   0%|          | 0/1 [00:00<?, ?it/s]"
      ]
     },
     "metadata": {},
     "output_type": "display_data"
    },
    {
     "data": {
      "application/vnd.jupyter.widget-view+json": {
       "model_id": "ff37a51c26db4089bb7980dbcc0fa7db",
       "version_major": 2,
       "version_minor": 0
      },
      "text/plain": [
       "Export report to file:   0%|          | 0/1 [00:00<?, ?it/s]"
      ]
     },
     "metadata": {},
     "output_type": "display_data"
    }
   ],
   "source": [
    "# https://pandas-profiling.github.io/pandas-profiling/docs/master/rtd/pages/advanced_usage.html\n",
    "# many other options can be set.\n",
    "# pool_size is number of CPUs. 0 uses all available. CB: but not used for intensive tasks so not useful.\n",
    "# minimal=True    skips compute-intensive operations to large datasets.\n",
    "# correlations=None  turns off correlation steps (which are compute intensive). CB: also removes 'Missing Values'\n",
    "\n",
    "# 10000 rows fails with standard settings\n",
    "#sample_df = ps_df\n",
    "sample_df = ps_df.sample(1000)          #subset of rows to profile\n",
    "file_title = 'PS_performance.sample1000'     # ! remember to update  !\n",
    "\n",
    "profile_report = sample_df.profile_report(\n",
    "    html={'style': {'full_width': True}},\n",
    "    title= file_title,\n",
    ")\n",
    "profile_report.to_file('../reports/'+file_title+'.html')"
   ]
  },
  {
   "cell_type": "code",
   "execution_count": 10,
   "id": "159e9d60",
   "metadata": {
    "scrolled": true
   },
   "outputs": [
    {
     "name": "stdout",
     "output_type": "stream",
     "text": [
      "probeset_id            object\n",
      "affy_snp_id            object\n",
      "multi_snp_id           object\n",
      "CR                    float64\n",
      "FLD                   float64\n",
      "HomFLD                float64\n",
      "HomFLD_hap            float64\n",
      "HetSO                 float64\n",
      "HomRO                 float64\n",
      "HomRO_hap             float64\n",
      "nMinorAllele          float64\n",
      "Nclus                   int64\n",
      "n_AA                  float64\n",
      "n_AB                  float64\n",
      "n_BB                  float64\n",
      "n_A                   float64\n",
      "n_B                   float64\n",
      "n_CN0                 float64\n",
      "n_NC                    int64\n",
      "hemizygous              int64\n",
      "specialSNP_chr         object\n",
      "gender_metrics         object\n",
      "ConversionType         object\n",
      "CopyNumIssue          float64\n",
      "BestProbeset            int64\n",
      "BestandRecommended      int64\n",
      "HomHet                float64\n",
      "AA.meanX              float64\n",
      "AA.meanY              float64\n",
      "AA.varX               float64\n",
      "AA.varY               float64\n",
      "AB.meanX              float64\n",
      "AB.meanY              float64\n",
      "AB.varX               float64\n",
      "AB.varY               float64\n",
      "BB.meanX              float64\n",
      "BB.meanY              float64\n",
      "BB.varX               float64\n",
      "BB.varY               float64\n",
      "A.meanX               float64\n",
      "A.meanY               float64\n",
      "B.meanX               float64\n",
      "B.meanY               float64\n",
      "dtype: object\n"
     ]
    }
   ],
   "source": [
    "print(ps_df.dtypes[0:43])"
   ]
  },
  {
   "cell_type": "code",
   "execution_count": 11,
   "id": "530e0fea",
   "metadata": {
    "scrolled": true
   },
   "outputs": [
    {
     "name": "stdout",
     "output_type": "stream",
     "text": [
      "CN0.meanY                   float64\n",
      "NC.meanX                    float64\n",
      "NC.meanY                    float64\n",
      "AA.varX.Z                   float64\n",
      "AA.varY.Z                   float64\n",
      "AB.varX.Z                   float64\n",
      "AB.varY.Z                   float64\n",
      "BB.varX.Z                   float64\n",
      "BB.varY.Z                   float64\n",
      "MMD                         float64\n",
      "MinorAlleleFrequency        float64\n",
      "H.W.p-Value                 float64\n",
      "H.W.chisquared.statistic    float64\n",
      "nSamples                    float64\n",
      "nCalls                      float64\n",
      "count_ma_A                  float64\n",
      "count_ma_B                  float64\n",
      "count_ma_C                  float64\n",
      "count_ma_D                  float64\n",
      "count_ma_E                  float64\n",
      "count_ma_F                  float64\n",
      "nAllelesTested              float64\n",
      "nAllelesDetected            float64\n",
      "NHetClus                    float64\n",
      "nMajorAlleles               float64\n",
      "maxMinorAllele              float64\n",
      "nMinorAlleles               float64\n",
      "MAFall                      float64\n",
      "MAFmax                      float64\n",
      "HomCount                    float64\n",
      "MajorHomCount               float64\n",
      "MinorHomCount               float64\n",
      "HetCount                    float64\n",
      "HomMMA                      float64\n",
      "FLD_MA                      float64\n",
      "MinFLD_MA                   float64\n",
      "HomFLD_MA                   float64\n",
      "HetSO_MA                    float64\n",
      "HomRO_MA                    float64\n",
      "multiallelic                  int64\n",
      "OriginalCT                   object\n",
      "ordered_alleles              object\n",
      "dtype: object\n"
     ]
    }
   ],
   "source": [
    "print(ps_df.dtypes[44:])"
   ]
  },
  {
   "cell_type": "code",
   "execution_count": null,
   "id": "f1891720",
   "metadata": {},
   "outputs": [],
   "source": []
  }
 ],
 "metadata": {
  "kernelspec": {
   "display_name": "Python 3",
   "language": "python",
   "name": "python3"
  },
  "language_info": {
   "codemirror_mode": {
    "name": "ipython",
    "version": 3
   },
   "file_extension": ".py",
   "mimetype": "text/x-python",
   "name": "python",
   "nbconvert_exporter": "python",
   "pygments_lexer": "ipython3",
   "version": "3.8.10"
  }
 },
 "nbformat": 4,
 "nbformat_minor": 5
}
