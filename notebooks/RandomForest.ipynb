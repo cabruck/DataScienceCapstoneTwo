{
 "cells": [
  {
   "cell_type": "markdown",
   "id": "1853fcdc-ddbd-479e-9666-4751b0131c95",
   "metadata": {},
   "source": [
    "# 4. Random Forest modeling"
   ]
  },
  {
   "cell_type": "code",
   "execution_count": 1,
   "id": "32776f75-44e5-49b4-ae72-477d87102ded",
   "metadata": {},
   "outputs": [],
   "source": [
    "# import numpy as np\n",
    "import pandas as pd\n",
    "from sklearn.ensemble import RandomForestClassifier\n",
    "from sklearn.model_selection import GridSearchCV\n",
    "from sklearn.metrics import confusion_matrix, precision_recall_fscore_support #accuracy_score, classification_report\n",
    "import matplotlib.pyplot as plt\n",
    "import itertools       # called by function pulled from RandomForest_casestudy_covid19 that plots confusion matrix\n",
    "import numpy as np"
   ]
  },
  {
   "cell_type": "code",
   "execution_count": 2,
   "id": "4c814077-3b6b-446e-b347-793092f98145",
   "metadata": {},
   "outputs": [],
   "source": [
    "def plot_confusion_matrix(cm, classes,\n",
    "                          normalize=False,\n",
    "                          title='Confusion matrix',\n",
    "                          cmap=plt.cm.Blues):\n",
    "    \"\"\"\n",
    "    This function prints and plots the confusion matrix.\n",
    "    Normalization can be applied by setting `normalize=True`.\n",
    "    \"\"\"\n",
    "    if normalize:\n",
    "        cm = cm.astype('float') / cm.sum(axis=1)[:, np.newaxis]\n",
    "        print(\"Normalized confusion matrix\")\n",
    "    else:\n",
    "        print('Confusion matrix')\n",
    "\n",
    "    print(cm)\n",
    "\n",
    "    plt.imshow(cm, interpolation='nearest', cmap=cmap)\n",
    "    plt.title(title)\n",
    "    plt.colorbar()\n",
    "    tick_marks = np.arange(len(classes))\n",
    "    plt.xticks(tick_marks, classes, rotation=45)\n",
    "    plt.yticks(tick_marks, classes)\n",
    "\n",
    "    fmt = '.2f' if normalize else 'd'\n",
    "    thresh = cm.max() / 2.\n",
    "    for i, j in itertools.product(range(cm.shape[0]), range(cm.shape[1])):\n",
    "        plt.text(j, i, format(cm[i, j], fmt),\n",
    "                 horizontalalignment=\"center\",\n",
    "                 color=\"white\" if cm[i, j] > thresh else \"black\")\n",
    "\n",
    "    plt.ylabel('True label')\n",
    "    plt.xlabel('Predicted label')\n",
    "    plt.tight_layout()"
   ]
  },
  {
   "cell_type": "markdown",
   "id": "11ab88ae-2861-47ff-8b77-336d812834e4",
   "metadata": {},
   "source": [
    "## 4.1 Load and inspect data\n",
    "\n",
    "Available sets are:\n",
    "\n",
    "- X_train.zip, y_train.zip\n",
    "\n",
    "- X_train_subsample.zip, y_train_subsample.zip\n",
    "\n",
    "- X_test.zip, y_test.zip\n",
    "\n",
    "The subsample set only subsamples the 'good' class (1 out of every 15), to try to balance the classes better (1.5:1  good:bad)."
   ]
  },
  {
   "cell_type": "code",
   "execution_count": 3,
   "id": "be112bca-e8a3-47b7-9d9d-26d2dded29e9",
   "metadata": {
    "tags": []
   },
   "outputs": [],
   "source": [
    "# also set probeset_id as the index.  Will propagate to all derived dataframes.\n",
    "X_train_subsample_raw = pd.read_csv('../data/X_train_subsample.zip',sep='\\t', index_col = 'probeset_id')\n",
    "\n",
    "#y_train should be a Series, so extract the only column from the loaded DataFrame\n",
    "y_train_subsample = pd.read_csv('../data/y_train_subsample.zip',sep='\\t', index_col = 'probeset_id').quality_binary_good"
   ]
  },
  {
   "cell_type": "code",
   "execution_count": 4,
   "id": "b0602164-af62-43a5-9494-584207ecabe1",
   "metadata": {},
   "outputs": [
    {
     "data": {
      "text/plain": [
       "((60274, 38), (60274,))"
      ]
     },
     "execution_count": 4,
     "metadata": {},
     "output_type": "execute_result"
    }
   ],
   "source": [
    "X_train_subsample_raw.shape, y_train_subsample.shape"
   ]
  },
  {
   "cell_type": "code",
   "execution_count": 5,
   "id": "7419ec80-c15e-4ed8-ab6c-1ffd82d21794",
   "metadata": {},
   "outputs": [
    {
     "data": {
      "text/plain": [
       "CR                                       0\n",
       "FLD                                   2763\n",
       "HetSO                                 2743\n",
       "MMD                                  36597\n",
       "het_frac                                 0\n",
       "MinorAlleleFrequency                     0\n",
       "H.W.p-Value                              0\n",
       "AA.meanX.clean                       21591\n",
       "AB.meanX.abs_clean                    2743\n",
       "BB.meanX.clean                       14843\n",
       "HomRO                                   20\n",
       "AA.meanY.clean                       21591\n",
       "AB.meanY.clean                        2743\n",
       "BB.meanY.clean                       14843\n",
       "meanY                                    0\n",
       "Hom.meanY.delta                          0\n",
       "AA.varX.clean                        21591\n",
       "AB.varX.clean                         2743\n",
       "BB.varX.clean                        14843\n",
       "AA.varY.clean                        21591\n",
       "AB.varY.clean                         2743\n",
       "BB.varY.clean                        14843\n",
       "OriginalCT.recommended_True              0\n",
       "OriginalCT_AAvarianceX                   0\n",
       "OriginalCT_AAvarianceY                   0\n",
       "OriginalCT_ABvarianceX                   0\n",
       "OriginalCT_ABvarianceY                   0\n",
       "OriginalCT_BBvarianceX                   0\n",
       "OriginalCT_BBvarianceY                   0\n",
       "OriginalCT_CallRateBelowThreshold        0\n",
       "OriginalCT_MonoHighResolution            0\n",
       "OriginalCT_NoMinorHom                    0\n",
       "OriginalCT_OTV                           0\n",
       "OriginalCT_Other                         0\n",
       "OriginalCT_PolyHighResolution            0\n",
       "Nclus_1                                  0\n",
       "Nclus_2                                  0\n",
       "Nclus_3                                  0\n",
       "dtype: int64"
      ]
     },
     "execution_count": 5,
     "metadata": {},
     "output_type": "execute_result"
    }
   ],
   "source": [
    "X_train_subsample_raw.isnull().sum()"
   ]
  },
  {
   "cell_type": "code",
   "execution_count": 6,
   "id": "abc8c342-e9f6-478e-ab8c-7c0e4af707e1",
   "metadata": {},
   "outputs": [
    {
     "data": {
      "text/plain": [
       "1    36102\n",
       "0    24172\n",
       "Name: quality_binary_good, dtype: int64"
      ]
     },
     "execution_count": 6,
     "metadata": {},
     "output_type": "execute_result"
    }
   ],
   "source": [
    "y_train_subsample.value_counts()"
   ]
  },
  {
   "cell_type": "code",
   "execution_count": 7,
   "id": "097caae0-1022-48b0-ae6b-4f9aabb0f8e0",
   "metadata": {},
   "outputs": [
    {
     "data": {
      "text/plain": [
       "1    44686\n",
       "0    15588\n",
       "Name: OriginalCT.recommended_True, dtype: int64"
      ]
     },
     "execution_count": 7,
     "metadata": {},
     "output_type": "execute_result"
    }
   ],
   "source": [
    "# Software that computes most of these feature values has a pre-existing classifier.\n",
    "X_train_subsample_raw['OriginalCT.recommended_True'].value_counts()"
   ]
  },
  {
   "cell_type": "code",
   "execution_count": 8,
   "id": "c2bf9932-1eb0-4db7-9296-8a579dfd2d05",
   "metadata": {
    "tags": []
   },
   "outputs": [
    {
     "name": "stdout",
     "output_type": "stream",
     "text": [
      "Confusion matrix\n",
      "[[14722  9450]\n",
      " [  866 35236]]\n"
     ]
    },
    {
     "data": {
      "image/png": "[encoded data removed]",
      "text/plain": [
       "<Figure size 432x288 with 2 Axes>"
      ]
     },
     "metadata": {
      "needs_background": "light"
     },
     "output_type": "display_data"
    }
   ],
   "source": [
    "# Let's see if the model can do a better job predicting y_train than just this single feature:\n",
    "# sklearn.metrics.confusion_matrix(y_true, y_pred, *, labels=None, sample_weight=None, normalize=None)\n",
    "cm_single_feature = confusion_matrix(y_train_subsample, X_train_subsample_raw['OriginalCT.recommended_True'])\n",
    "plt.figure()\n",
    "plot_confusion_matrix(cm_single_feature, classes=['bad','good'], title='Confusion matrix')"
   ]
  },
  {
   "cell_type": "markdown",
   "id": "c043a67b-d732-449b-a831-44a2afd8f9f1",
   "metadata": {
    "tags": []
   },
   "source": [
    "## 4.2 Fill missing values\n",
    "\n",
    "RandomForestClassifier can't handle missing values.  For these metrics, the missing values aren't so much \"missing\" as that they cannot be calculated for certain categories of observations.  Replacing these empty values with mean or median is very likely not appropriate.  Since these sparse metrics are used to segregate good from bad groups, let's replace empty values with either a floor or ceiling value.\n",
    "\n",
    "For example, small FLD is a sign of a problem.  If this metric isn't available, replace with a value larger than any real value, like '999'\n",
    "\n",
    "For example, large variance is a sign of a problem.  If these metrics aren't available, replace with a value smaller than any real value, like '0'.\n",
    "\n",
    "Since feature rescaling is not needed for RandomForestClassifier and will not be done, the distance of the replacement values from the real distribution should not matter.\n",
    "\n",
    "Comments on specific columns:\n",
    "HomRO is NA for probesets where there is no Hom cluster (het_frac=1).  These should all be bad.  Set HomRO to bad negative value.\n"
   ]
  },
  {
   "cell_type": "code",
   "execution_count": 9,
   "id": "06538fa6-5d77-4aec-bfde-2b66380c7d13",
   "metadata": {},
   "outputs": [],
   "source": [
    "X_train_subsample = X_train_subsample_raw.copy()\n",
    "\n",
    "fill_lo_columns = ['BB.meanX.clean','HomRO']\n",
    "fill_0_columns = ['AB.meanX.abs_clean','AA.varX.clean','AB.varX.clean','BB.varX.clean','AA.varY.clean','AB.varY.clean','BB.varY.clean']\n",
    "fill_hi_columns = ['AA.meanX.clean','FLD','HetSO','MMD','AA.varY.clean','AB.varY.clean','BB.varY.clean']\n",
    "\n",
    "X_train_subsample[fill_lo_columns] = X_train_subsample_raw[fill_lo_columns].fillna(-999)\n",
    "X_train_subsample[fill_0_columns ] = X_train_subsample_raw[fill_0_columns ].fillna( 0  )\n",
    "X_train_subsample[fill_hi_columns] = X_train_subsample_raw[fill_hi_columns].fillna( 999)"
   ]
  },
  {
   "cell_type": "code",
   "execution_count": 10,
   "id": "21f3e394-8c9c-46af-9733-4dce6ff491d9",
   "metadata": {},
   "outputs": [
    {
     "data": {
      "text/plain": [
       "AA.meanY.clean    21591\n",
       "BB.meanY.clean    14843\n",
       "AB.meanY.clean     2743\n",
       "CR                    0\n",
       "BB.varY.clean         0\n",
       "dtype: int64"
      ]
     },
     "execution_count": 10,
     "metadata": {},
     "output_type": "execute_result"
    }
   ],
   "source": [
    "X_train_subsample.isnull().sum().sort_values(ascending=False).head()"
   ]
  },
  {
   "cell_type": "code",
   "execution_count": 11,
   "id": "98a82433-fcc9-4ad5-b6f8-2a98fe86299b",
   "metadata": {
    "tags": []
   },
   "outputs": [],
   "source": [
    "# This Cell doesn't change anything, no errors.\n",
    "# Fill empty cluster position values with the minimum or maximum (as appropriate) of two other columns.\n",
    "# Reminder: the .clean suffix means the value is empty if there there is no data underlying the metric\n",
    "\n",
    "X_train_subsample['AA.meanY.clean'] = X_train_subsample_raw[['AA.meanY.clean']].\\\n",
    "                                          fillna(X_train_subsample_raw[['AB.meanY.clean','BB.meanY.clean']].min(axis=1))\n",
    "X_train_subsample['BB.meanY.clean'] = X_train_subsample_raw[['BB.meanY.clean']].\\\n",
    "                                          fillna(X_train_subsample_raw[['AA.meanY.clean','AB.meanY.clean']].min(axis=1))\n",
    "X_train_subsample['AB.meanY.clean'] = X_train_subsample_raw[['AB.meanY.clean']].\\\n",
    "                                          fillna(X_train_subsample_raw[['AA.meanY.clean','BB.meanY.clean']].max(axis=1))\n",
    "\n",
    "#test = X_train_subsample_raw[['AA.meanY.clean']]. \\\n",
    "#     fillna(value= X_train_subsample_raw[['AB.meanY.clean','BB.meanY.clean']].groupby(level=0).min())"
   ]
  },
  {
   "cell_type": "code",
   "execution_count": 12,
   "id": "7431481f-b996-42e0-b532-4879b8349564",
   "metadata": {
    "tags": []
   },
   "outputs": [
    {
     "data": {
      "text/plain": [
       "AA.meanY.clean    21591\n",
       "BB.meanY.clean    14843\n",
       "AB.meanY.clean     2743\n",
       "CR                    0\n",
       "BB.varY.clean         0\n",
       "dtype: int64"
      ]
     },
     "execution_count": 12,
     "metadata": {},
     "output_type": "execute_result"
    }
   ],
   "source": [
    "X_train_subsample.isnull().sum().sort_values(ascending=False).head()"
   ]
  },
  {
   "cell_type": "markdown",
   "id": "861a11e2-488b-4e6c-a4ab-9715528f1494",
   "metadata": {},
   "source": [
    "Why didn't DataFrame.fillna() work?"
   ]
  },
  {
   "cell_type": "code",
   "execution_count": 13,
   "id": "a2438d5e-e965-4c11-9303-0162c732adad",
   "metadata": {
    "tags": []
   },
   "outputs": [],
   "source": [
    "# https://stackoverflow.com/questions/48171256/pandas-replace-nan-with-values-from-one-of-two-columns\n",
    "#Using pandas.Series.fillna to update single column\n",
    "# https://pandas.pydata.org/pandas-docs/stable/reference/api/pandas.Series.fillna.html\n",
    "\n",
    "# Fill empty cluster position values with the minimum or maximum (as appropriate) of two other columns.\n",
    "# Reminder: the .clean suffix means the value is empty if there there is no data underlying the metric\n",
    "\n",
    "X_train_subsample['AA.meanY.clean'] = X_train_subsample_raw['AA.meanY.clean'].\\\n",
    "                                          fillna(X_train_subsample_raw[['AB.meanY.clean','BB.meanY.clean']].min(axis=1))\n",
    "X_train_subsample['BB.meanY.clean'] = X_train_subsample_raw['BB.meanY.clean'].\\\n",
    "                                          fillna(X_train_subsample_raw[['AA.meanY.clean','AB.meanY.clean']].min(axis=1))\n",
    "X_train_subsample['AB.meanY.clean'] = X_train_subsample_raw['AB.meanY.clean'].\\\n",
    "                                          fillna(X_train_subsample_raw[['AA.meanY.clean','BB.meanY.clean']].max(axis=1))"
   ]
  },
  {
   "cell_type": "code",
   "execution_count": 14,
   "id": "b3e64a49-3d51-469a-8d40-14dc043700b4",
   "metadata": {},
   "outputs": [
    {
     "data": {
      "text/plain": [
       "CR                             0\n",
       "OriginalCT_BBvarianceY         0\n",
       "BB.varY.clean                  0\n",
       "OriginalCT.recommended_True    0\n",
       "OriginalCT_AAvarianceX         0\n",
       "dtype: int64"
      ]
     },
     "execution_count": 14,
     "metadata": {},
     "output_type": "execute_result"
    }
   ],
   "source": [
    "# check that removed all NaNs in DataFrame\n",
    "X_train_subsample.isnull().sum().sort_values(ascending=False).head()"
   ]
  },
  {
   "cell_type": "code",
   "execution_count": 15,
   "id": "06d8841c-2913-4a98-bf44-f84658c91a05",
   "metadata": {
    "tags": []
   },
   "outputs": [
    {
     "data": {
      "text/plain": [
       "CR                      100.000000\n",
       "FLD                       3.683000\n",
       "HetSO                     0.215000\n",
       "MMD                            NaN\n",
       "het_frac                  0.025362\n",
       "MinorAlleleFrequency      0.013000\n",
       "H.W.p-Value               1.000000\n",
       "AA.meanX.clean                 NaN\n",
       "AB.meanX.abs_clean        0.097000\n",
       "BB.meanX.clean           -1.472000\n",
       "HomRO                     1.472000\n",
       "AA.meanY.clean                 NaN\n",
       "AB.meanY.clean           11.096000\n",
       "BB.meanY.clean           10.958000\n",
       "Name: AX-31964699, dtype: float64"
      ]
     },
     "execution_count": 15,
     "metadata": {},
     "output_type": "execute_result"
    }
   ],
   "source": [
    "X_train_subsample_raw.loc['AX-31964699'].head(14)"
   ]
  },
  {
   "cell_type": "code",
   "execution_count": 16,
   "id": "f564f037-b008-43af-8544-fad65e1e4853",
   "metadata": {},
   "outputs": [
    {
     "data": {
      "text/plain": [
       "CR                      100.000000\n",
       "FLD                       3.683000\n",
       "HetSO                     0.215000\n",
       "MMD                     999.000000\n",
       "het_frac                  0.025362\n",
       "MinorAlleleFrequency      0.013000\n",
       "H.W.p-Value               1.000000\n",
       "AA.meanX.clean          999.000000\n",
       "AB.meanX.abs_clean        0.097000\n",
       "BB.meanX.clean           -1.472000\n",
       "HomRO                     1.472000\n",
       "AA.meanY.clean           10.958000\n",
       "AB.meanY.clean           11.096000\n",
       "BB.meanY.clean           10.958000\n",
       "Name: AX-31964699, dtype: float64"
      ]
     },
     "execution_count": 16,
     "metadata": {},
     "output_type": "execute_result"
    }
   ],
   "source": [
    "# looks like filled values are calculated appropriately\n",
    "X_train_subsample.loc['AX-31964699'].head(14)"
   ]
  },
  {
   "cell_type": "code",
   "execution_count": 17,
   "id": "d414b43c-bb83-4e6c-8ad2-4c22bdf5267c",
   "metadata": {},
   "outputs": [],
   "source": [
    "# I'll be reusing filling of empty values\n",
    "def mydata_fillna(X):\n",
    "    X_filled = X.copy()\n",
    "    \n",
    "    fill_lo_columns = ['BB.meanX.clean','HomRO']\n",
    "    fill_0_columns = ['AB.meanX.abs_clean','AA.varX.clean','AB.varX.clean','BB.varX.clean', \\\n",
    "                      'AA.varY.clean','AB.varY.clean','BB.varY.clean']\n",
    "    fill_hi_columns = ['AA.meanX.clean','FLD','HetSO','MMD','AA.varY.clean','AB.varY.clean','BB.varY.clean']\n",
    "    \n",
    "    X_filled[fill_lo_columns] = X[fill_lo_columns].fillna(-999)\n",
    "    X_filled[fill_0_columns ] = X[fill_0_columns ].fillna( 0  )\n",
    "    X_filled[fill_hi_columns] = X[fill_hi_columns].fillna( 999)    \n",
    "    X_filled['AA.meanY.clean'] = X['AA.meanY.clean'].fillna(X[['AB.meanY.clean','BB.meanY.clean']].min(axis=1))\n",
    "    X_filled['BB.meanY.clean'] = X['BB.meanY.clean'].fillna(X[['AA.meanY.clean','AB.meanY.clean']].min(axis=1))\n",
    "    X_filled['AB.meanY.clean'] = X['AB.meanY.clean'].fillna(X[['AA.meanY.clean','BB.meanY.clean']].max(axis=1))\n",
    "    \n",
    "    return X_filled"
   ]
  },
  {
   "cell_type": "markdown",
   "id": "40b5122b-5fe0-46b8-814c-afa5ee2b54c5",
   "metadata": {
    "tags": []
   },
   "source": [
    "## 4.3 Load and fill missing values for remaining data"
   ]
  },
  {
   "cell_type": "code",
   "execution_count": 18,
   "id": "d98c1b79-4835-4283-9ebb-5edce70145d2",
   "metadata": {
    "tags": []
   },
   "outputs": [],
   "source": [
    "# Load full (unbalanced) training set. Same \"bad\" observations as X_train_subsample, but 15x as many \"good\" observations.\n",
    "# this has same proportion of classes as test set, which is also loaded.\n",
    "\n",
    "X_train_raw = pd.read_csv('../data/X_train.zip',sep='\\t', index_col = 'probeset_id')\n",
    "X_test_raw  = pd.read_csv('../data/X_test.zip' ,sep='\\t', index_col = 'probeset_id')\n",
    "\n",
    "#y_train should be a Series, so extract the only column from the loaded DataFrame\n",
    "y_train = pd.read_csv('../data/y_train.zip',sep='\\t', index_col = 'probeset_id').quality_binary_good\n",
    "y_test  = pd.read_csv('../data/y_test.zip' ,sep='\\t', index_col = 'probeset_id').quality_binary_good"
   ]
  },
  {
   "cell_type": "code",
   "execution_count": 19,
   "id": "f116b788-b3c5-46b6-b983-027ba3520c1d",
   "metadata": {},
   "outputs": [],
   "source": [
    "X_train = mydata_fillna(X_train_raw)\n",
    "X_test = mydata_fillna(X_test_raw)"
   ]
  },
  {
   "cell_type": "code",
   "execution_count": 20,
   "id": "5101aaff-2489-441b-9de6-92340e6c46b4",
   "metadata": {
    "tags": []
   },
   "outputs": [
    {
     "data": {
      "text/plain": [
       "((565708, 38), (565708,), (242447, 38), (242447,))"
      ]
     },
     "execution_count": 20,
     "metadata": {},
     "output_type": "execute_result"
    }
   ],
   "source": [
    "X_train.shape, y_train.shape, X_test.shape, y_test.shape"
   ]
  },
  {
   "cell_type": "code",
   "execution_count": 21,
   "id": "511b5f6a-6755-4209-9991-3361b3437012",
   "metadata": {},
   "outputs": [
    {
     "data": {
      "text/plain": [
       "1    541536\n",
       "0     24172\n",
       "Name: quality_binary_good, dtype: int64"
      ]
     },
     "execution_count": 21,
     "metadata": {},
     "output_type": "execute_result"
    }
   ],
   "source": [
    "y_train.value_counts()"
   ]
  },
  {
   "cell_type": "markdown",
   "id": "1e8ece39-cec5-4f4f-9630-8b98e121f43c",
   "metadata": {
    "tags": []
   },
   "source": [
    "## 4.4 First model\n",
    "\n",
    "https://scikit-learn.org/stable/modules/generated/sklearn.ensemble.RandomForestClassifier.html\n",
    "\n",
    "- n_estimators:  number of trees in the forest (100 default)\n",
    "- criterion:  measuring quality of split ('gini' default)\n",
    "- max_features: per-node random selection of this many features (default is sqrt of n_feature, so ~6 in this case)\n",
    "- n_jobs (default 1.  Set to -1 to use all available processors)\n",
    "- random_state: set to a value to give same results each time run"
   ]
  },
  {
   "cell_type": "markdown",
   "id": "1e3e709c-dd94-47ca-a93e-d1fe15492242",
   "metadata": {},
   "source": [
    "### 4.4.1 train on subsampled balanced classes"
   ]
  },
  {
   "cell_type": "code",
   "execution_count": 22,
   "id": "75f314cf-6953-4b32-870d-5d6cf15a3510",
   "metadata": {
    "tags": []
   },
   "outputs": [],
   "source": [
    "# 90 estimators is sufficient for perfect prediction accuracy in the subsample training set\n",
    "# As go higher in estimators, get better prediction accuracy for withheld good class in full training set\n",
    "model = RandomForestClassifier(random_state=1,n_jobs=-1,n_estimators=25)\n",
    "model.fit(X_train_subsample,y_train_subsample);"
   ]
  },
  {
   "cell_type": "code",
   "execution_count": 23,
   "id": "4dd1f1eb-7423-4081-a625-0a8118dbd8c5",
   "metadata": {
    "tags": []
   },
   "outputs": [],
   "source": [
    "# X_train_subsample has ~balanced classes\n",
    "# Let's see what overfitting looks like (recalculatate for different n_estimators in previous cell)\n",
    "y_train_subsample_prediction = model.predict(X_train_subsample)\n",
    "cm_train_subsample = confusion_matrix(y_train_subsample, y_train_subsample_prediction)"
   ]
  },
  {
   "cell_type": "code",
   "execution_count": 24,
   "id": "6a91092e-fb0e-4e9f-90b1-fa1de604a8c1",
   "metadata": {
    "tags": []
   },
   "outputs": [
    {
     "name": "stdout",
     "output_type": "stream",
     "text": [
      "Confusion matrix\n",
      "[[24096    76]\n",
      " [    7 36095]]\n"
     ]
    },
    {
     "data": {
      "image/png": "[encoded data removed]",
      "text/plain": [
       "<Figure size 432x288 with 2 Axes>"
      ]
     },
     "metadata": {
      "needs_background": "light"
     },
     "output_type": "display_data"
    }
   ],
   "source": [
    "plt.figure()\n",
    "plot_confusion_matrix(cm_train_subsample, classes=['bad','good'], title='Confusion matrix')"
   ]
  },
  {
   "cell_type": "markdown",
   "id": "acc3a59f-6301-464a-a62a-9de93d512ebb",
   "metadata": {},
   "source": [
    "### 4.4.2 quickie evaluation on full training data\n",
    "\n",
    "Subsampled training set used to make the model excluded 14 of every 15 \"good\" class observations.  If I feed the model the original training data with all good and bad observations, what fraction of the new good observations are correctly classified?"
   ]
  },
  {
   "cell_type": "code",
   "execution_count": 25,
   "id": "055ab0db-936b-4322-90ba-07fca94cb170",
   "metadata": {
    "tags": []
   },
   "outputs": [
    {
     "name": "stdout",
     "output_type": "stream",
     "text": [
      "Confusion matrix\n",
      "[[ 24096     76]\n",
      " [ 31155 510381]]\n"
     ]
    },
    {
     "data": {
      "image/png": "[encoded data removed]",
      "text/plain": [
       "<Figure size 432x288 with 2 Axes>"
      ]
     },
     "metadata": {
      "needs_background": "light"
     },
     "output_type": "display_data"
    }
   ],
   "source": [
    "# predict on full training set (most of the good class not used in model building)\n",
    "# remember to fill in missing values using new function\n",
    "y_train_prediction = model.predict(X_train)\n",
    "cm_train = confusion_matrix(y_train, y_train_prediction)\n",
    "plt.figure()\n",
    "plot_confusion_matrix(cm_train, classes=['bad','good'], title='Confusion matrix')"
   ]
  },
  {
   "cell_type": "code",
   "execution_count": 26,
   "id": "a94616a4-f101-4cbe-b6e2-1c5c916552d4",
   "metadata": {
    "tags": []
   },
   "outputs": [
    {
     "name": "stdout",
     "output_type": "stream",
     "text": [
      "Confusion matrix\n",
      "[[ 14722   9450]\n",
      " [ 12970 528566]]\n"
     ]
    },
    {
     "data": {
      "image/png": "[encoded data removed]",
      "text/plain": [
       "<Figure size 432x288 with 2 Axes>"
      ]
     },
     "metadata": {
      "needs_background": "light"
     },
     "output_type": "display_data"
    }
   ],
   "source": [
    "# Let's see if the model did a better job predicting y_train than just a single feature 'OriginalCT.recommended_True' in the model:\n",
    "cm_single_feature = confusion_matrix(y_train, X_train['OriginalCT.recommended_True'])\n",
    "plt.figure()\n",
    "plot_confusion_matrix(cm_single_feature, classes=['bad','good'], title='Confusion matrix')"
   ]
  },
  {
   "cell_type": "markdown",
   "id": "48698f78-2ddd-4a5c-ac56-8f49661cb788",
   "metadata": {
    "tags": []
   },
   "source": [
    "It appears that before hyperparameter tuning and cross validation, a lower fraction of True \"good\" were correctly labeled with RandomForest than just using a single binary feature 'OriginalCT.recommended_True' as the predictor.  This is problematic.\n",
    "\n",
    "Since every True \"bad\" observation was used to train the random forest, it's no surprise that the prediction of the same observations will be accurate."
   ]
  },
  {
   "cell_type": "markdown",
   "id": "fd7dcdf6-5e45-481f-8d26-cb86f4b97c1c",
   "metadata": {
    "tags": []
   },
   "source": [
    "## 4.5 Hyperparameter search\n",
    "\n",
    "https://scikit-learn.org/stable/modules/generated/sklearn.ensemble.RandomForestClassifier.html\n",
    "\n",
    "Many parameters available.  Rather than do exhaustive search, let's just treat as exercise.  Therefore will focus on:\n",
    "- n_estimators: number of trees in the forest (100 default)\n",
    "- criterion: measuring quality of split ('gini' default)\n",
    "- max_leaf_nodes: Grow trees with max_leaf_nodes in best-first fashion. Best nodes are defined as relative reduction in impurity. If None then unlimited number of leaf nodes.\n",
    "- min_samples_split, min_samples_leaf: tested in some scenarios not documented here, to evaluate whether non-default settings would help.\n",
    "\n",
    "I could try one factor at a time searching, using validation_curve().\n",
    "https://towardsdatascience.com/optimizing-hyperparameters-in-random-forest-classification-ec7741f9d3f6\n",
    "\n",
    "Might help me narrow down a reasonable parameter space to explore.\n",
    "\n",
    "But for now I'll just use GridSearchCV to test all combinations of parameters.  The risk is that the optimum is not in the explored space."
   ]
  },
  {
   "cell_type": "code",
   "execution_count": 27,
   "id": "b43a3826-7460-44f6-aa40-a7b923863c41",
   "metadata": {
    "tags": []
   },
   "outputs": [
    {
     "data": {
      "text/plain": [
       "{'max_depth': [15, 25, None], 'n_estimators': [25, 50, 100, 800]}"
      ]
     },
     "execution_count": 27,
     "metadata": {},
     "output_type": "execute_result"
    }
   ],
   "source": [
    "max_depth = [15, 25, None]   # [5, 8, 15, 25, 30]    # None is default\n",
    "n_estimators = [25, 50, 100, 800]  # [50]            # 100 is default\n",
    "# max_leaf_nodes = [None]    # [10,20,40,None]       # None worked best\n",
    "# min_samples_split = [2, 5, 10, 15, 100]            # Less restriction worked best    \n",
    "# min_samples_leaf = [1, 2, 5, 10]                   # Less restriction generally worked best\n",
    "# criterion = ['gini'] #['gini','entropy']           # pretty similar\n",
    "\n",
    "#the following are equivalent:\n",
    "#param_grid = {'n_estimators':n_estimators,'criterion':criterion,'max_leaf_nodes':max_leaf_nodes}\n",
    "#param_grid = dict(n_estimators=n_estimators, criterion=criterion, max_leaf_nodes=max_leaf_nodes)\n",
    "param_grid = dict(max_depth=max_depth, n_estimators=n_estimators)\n",
    "param_grid"
   ]
  },
  {
   "cell_type": "markdown",
   "id": "091409d6-64cd-4f79-aab3-91542b1996d6",
   "metadata": {},
   "source": [
    "https://scikit-learn.org/stable/modules/model_evaluation.html#scoring-parameter\n",
    "\n",
    "Default scoring metric for evaluating quality of each fit is 'accuracy'.  When working with a mostly balanced class set: X_train_subsample, there's probably not much difference between using 'accuracy' vs 'balanced_accuracy' (calculate accuracy of calling each predicted class, then take straight average of each accuracy).\n",
    "\n",
    "But in case 'balanced_accuracy' rejects a large fraction of good class in order to bump up bad class accuracy, might want to also try 'f1_macro' (straight average of each class's F1-score). F1-score of each class is average of sensitivity and PPV (recall and precision).\n",
    "\n",
    "Could also check whether using the balanced versions will work better using original training set than with subsampled training set."
   ]
  },
  {
   "cell_type": "code",
   "execution_count": 28,
   "id": "f917228c-80ac-4e3b-8eea-e089de8823fd",
   "metadata": {
    "tags": []
   },
   "outputs": [
    {
     "name": "stdout",
     "output_type": "stream",
     "text": [
      "CPU times: user 2min 19s, sys: 1.25 s, total: 2min 20s\n",
      "Wall time: 16min 28s\n"
     ]
    }
   ],
   "source": [
    "scoring='balanced_accuracy'\n",
    "model2 = RandomForestClassifier(random_state=1)\n",
    "model_grid_cv = GridSearchCV(model2, param_grid=param_grid, scoring=scoring, cv=5, n_jobs=-1)\n",
    "%time model_grid = model_grid_cv.fit(X_train_subsample,y_train_subsample)"
   ]
  },
  {
   "cell_type": "code",
   "execution_count": 29,
   "id": "b538be58-6553-4a7a-b2bb-76411479c522",
   "metadata": {
    "tags": []
   },
   "outputs": [
    {
     "name": "stdout",
     "output_type": "stream",
     "text": [
      "best parameter index: 7\n",
      "best estimator: RandomForestClassifier(max_depth=25, n_estimators=800, random_state=1)\n",
      "make_scorer(balanced_accuracy_score) 0.8783769358077402\n"
     ]
    }
   ],
   "source": [
    "print('best parameter index:', model_grid.best_index_)\n",
    "print('best estimator:', model_grid.best_estimator_)\n",
    "print(model_grid.scorer_, model_grid.best_score_)"
   ]
  },
  {
   "cell_type": "code",
   "execution_count": 30,
   "id": "376fb719-0f8c-4e00-b4e4-1d980cd236f0",
   "metadata": {},
   "outputs": [
    {
     "name": "stdout",
     "output_type": "stream",
     "text": [
      "[{'max_depth': 15, 'n_estimators': 25}, {'max_depth': 15, 'n_estimators': 50}, {'max_depth': 15, 'n_estimators': 100}, {'max_depth': 15, 'n_estimators': 800}, {'max_depth': 25, 'n_estimators': 25}, {'max_depth': 25, 'n_estimators': 50}, {'max_depth': 25, 'n_estimators': 100}, {'max_depth': 25, 'n_estimators': 800}, {'max_depth': None, 'n_estimators': 25}, {'max_depth': None, 'n_estimators': 50}, {'max_depth': None, 'n_estimators': 100}, {'max_depth': None, 'n_estimators': 800}]\n",
      "\n",
      "make_scorer(balanced_accuracy_score) [0.87386598 0.87487386 0.87464098 0.87557413 0.87386032 0.87712645\n",
      " 0.87816017 0.87837694 0.87400282 0.87710911 0.87706526 0.87818193]\n"
     ]
    }
   ],
   "source": [
    "print(model_grid.cv_results_['params'])\n",
    "print('')\n",
    "print(model_grid.scorer_, model_grid.cv_results_['mean_test_score'])"
   ]
  },
  {
   "cell_type": "code",
   "execution_count": 31,
   "id": "fe29e202-4b27-4a84-80d3-6ffc205d3677",
   "metadata": {},
   "outputs": [
    {
     "data": {
      "image/png": "[encoded data removed]",
      "text/plain": [
       "<Figure size 432x288 with 1 Axes>"
      ]
     },
     "metadata": {
      "needs_background": "light"
     },
     "output_type": "display_data"
    }
   ],
   "source": [
    "plt.plot(model_grid.cv_results_['mean_test_score']);\n",
    "plt.xlabel('parameter index')\n",
    "plt.ylabel('balanced_accuracy')\n",
    "plt.show()"
   ]
  },
  {
   "cell_type": "markdown",
   "id": "68303671-55cb-4318-8863-45c2d20b5662",
   "metadata": {},
   "source": [
    "## 4.6 Predict using tuned model\n",
    "\n",
    "Tuned model is built on X_train_subsample & y_train_subsample, with parameters:\n",
    "\n",
    "RandomForestClassifier(max_depth=25, n_estimators=800, random_state=1)"
   ]
  },
  {
   "cell_type": "code",
   "execution_count": 32,
   "id": "1e37a05a-9650-4b38-aa66-78c9163506e8",
   "metadata": {
    "tags": []
   },
   "outputs": [],
   "source": [
    "# predict subsampled training set using the best_estimator_ parameters\n",
    "y_train_subsample_prediction = model_grid.predict(X_train_subsample)"
   ]
  },
  {
   "cell_type": "code",
   "execution_count": 33,
   "id": "3c9c3b5a-d76b-4edb-a0fa-98ecf43e306a",
   "metadata": {},
   "outputs": [
    {
     "name": "stdout",
     "output_type": "stream",
     "text": [
      "Confusion matrix\n",
      "[[23832   340]\n",
      " [    0 36102]]\n"
     ]
    },
    {
     "data": {
      "image/png": "[encoded data removed]",
      "text/plain": [
       "<Figure size 432x288 with 2 Axes>"
      ]
     },
     "metadata": {
      "needs_background": "light"
     },
     "output_type": "display_data"
    }
   ],
   "source": [
    "cm_train_subsample = confusion_matrix(y_train_subsample, y_train_subsample_prediction)\n",
    "plt.figure()\n",
    "plot_confusion_matrix(cm_train_subsample, classes=['bad','good'], title='Confusion matrix')"
   ]
  },
  {
   "cell_type": "markdown",
   "id": "1c14bfcd-0513-4a37-86ad-c29f553e4034",
   "metadata": {},
   "source": [
    "There are still some prediction errors in training set because cross validation chose an estimator that limited the max_depth of the trees."
   ]
  },
  {
   "cell_type": "markdown",
   "id": "46f53e6b-8def-4385-9077-4a93495bb46e",
   "metadata": {
    "tags": []
   },
   "source": [
    "### 4.6.1 Predict on omitted 'good' observations when making X_train_subsample"
   ]
  },
  {
   "cell_type": "code",
   "execution_count": 34,
   "id": "149915e2-cf25-4162-889f-30acba0155e6",
   "metadata": {
    "tags": []
   },
   "outputs": [],
   "source": [
    "# predict omitted 'good' class in original training set using the best_estimator_ parameters\n",
    "unseen_train_indexes = ~X_train.index.isin(X_train_subsample.index)\n",
    "\n",
    "y_train_prediction = model_grid.predict(X_train[unseen_train_indexes])"
   ]
  },
  {
   "cell_type": "code",
   "execution_count": 35,
   "id": "ed1ab0dd-d158-4daf-b756-75a2ae637d15",
   "metadata": {
    "tags": []
   },
   "outputs": [
    {
     "name": "stdout",
     "output_type": "stream",
     "text": [
      "Confusion matrix\n",
      "[[     0      0]\n",
      " [ 27394 478040]]\n"
     ]
    },
    {
     "data": {
      "image/png": "[encoded data removed]",
      "text/plain": [
       "<Figure size 432x288 with 2 Axes>"
      ]
     },
     "metadata": {
      "needs_background": "light"
     },
     "output_type": "display_data"
    }
   ],
   "source": [
    "cm_train = confusion_matrix(y_train[unseen_train_indexes], y_train_prediction)\n",
    "plt.figure()\n",
    "plot_confusion_matrix(cm_train, classes=['bad','good'], title='Confusion matrix')"
   ]
  },
  {
   "cell_type": "code",
   "execution_count": 36,
   "id": "f4eaceae-f945-4166-a7b4-71748587b47c",
   "metadata": {
    "tags": []
   },
   "outputs": [
    {
     "name": "stdout",
     "output_type": "stream",
     "text": [
      "      precision    recall    F-beta  support (n)\n",
      "bad         0.0  0.000000  0.000000          0.0\n",
      "good        1.0  0.945801  0.972146     505434.0\n",
      "\n"
     ]
    }
   ],
   "source": [
    "metrics = pd.DataFrame(precision_recall_fscore_support(y_train[unseen_train_indexes], y_train_prediction, zero_division=0)).T\n",
    "metrics.columns = ['precision','recall','F-beta','support (n)']\n",
    "#metrics.columns = ['PPV','sensitivity','F-beta','support (n)']\n",
    "metrics.rename({0:'bad',1:'good'},inplace=True)\n",
    "print(metrics)\n",
    "print('')\n",
    "#print('balanced_accuracy: %.1f%%' %np.mean(100*metrics['recall']))     #escape key for % is %%, oddly\n",
    "#print('balanced_accuracy:', str(round(100*np.mean(metrics['recall']),1)) ,'%')"
   ]
  },
  {
   "cell_type": "markdown",
   "id": "f2f81b31-e3da-42ca-a861-ead6c4b63a1a",
   "metadata": {},
   "source": [
    "### 4.6.2 Test set prediction"
   ]
  },
  {
   "cell_type": "code",
   "execution_count": 37,
   "id": "062a49d5-d03b-4881-89b8-ecc5b2776216",
   "metadata": {},
   "outputs": [],
   "source": [
    "# predict on unseen test set using the best_estimator_ parameters\n",
    "y_test_prediction = model_grid.predict(X_test)"
   ]
  },
  {
   "cell_type": "code",
   "execution_count": 38,
   "id": "9bc032bf-9322-42f6-8f87-d6cb9a975f10",
   "metadata": {},
   "outputs": [
    {
     "name": "stdout",
     "output_type": "stream",
     "text": [
      "Confusion matrix\n",
      "[[  8358   2000]\n",
      " [ 12512 219577]]\n"
     ]
    },
    {
     "data": {
      "image/png": "[encoded data removed]",
      "text/plain": [
       "<Figure size 432x288 with 2 Axes>"
      ]
     },
     "metadata": {
      "needs_background": "light"
     },
     "output_type": "display_data"
    }
   ],
   "source": [
    "cm_test = confusion_matrix(y_test, y_test_prediction)\n",
    "plt.figure()\n",
    "plot_confusion_matrix(cm_test, classes=['bad','good'], title='Confusion matrix')"
   ]
  },
  {
   "cell_type": "code",
   "execution_count": 39,
   "id": "7c5134b4-4cfe-4dd4-9139-4262f6d502d6",
   "metadata": {
    "tags": []
   },
   "outputs": [
    {
     "name": "stdout",
     "output_type": "stream",
     "text": [
      "      precision    recall    F-beta  support (n)\n",
      "bad    0.400479  0.806913  0.535289      10358.0\n",
      "good   0.990974  0.946090  0.968012     232089.0\n",
      "\n",
      "balanced_accuracy: 87.7 %\n"
     ]
    }
   ],
   "source": [
    "metrics = pd.DataFrame(precision_recall_fscore_support(y_test, y_test_prediction)).T\n",
    "metrics.columns = ['precision','recall','F-beta','support (n)']\n",
    "#metrics.columns = ['PPV','sensitivity','F-beta','support (n)']\n",
    "metrics.rename({0:'bad',1:'good'},inplace=True)\n",
    "print(metrics)\n",
    "print('')\n",
    "#print('balanced_accuracy: %.1f%%' %np.mean(100*metrics['recall']))     #escape key for % is %%, oddly\n",
    "print('balanced_accuracy:', str(round(100*np.mean(metrics['recall']),1)) ,'%')"
   ]
  },
  {
   "cell_type": "markdown",
   "id": "796edda9-8054-4ed6-b5be-1f806e6ed399",
   "metadata": {},
   "source": [
    "As expected, 'good' class in test set has very similar recall to the withheld 'good' class in original training set when subsampling training set to balance 'good' and 'bad' classes.\n",
    "\n",
    "'bad' class recall is ~81% in test set."
   ]
  },
  {
   "cell_type": "code",
   "execution_count": 40,
   "id": "423f34dd-d0ad-4682-a8c3-8dab68dc7294",
   "metadata": {
    "tags": []
   },
   "outputs": [
    {
     "name": "stdout",
     "output_type": "stream",
     "text": [
      "Confusion matrix\n",
      "[[  6308   4050]\n",
      " [  5559 226530]]\n"
     ]
    },
    {
     "data": {
      "image/png": "[encoded data removed]",
      "text/plain": [
       "<Figure size 432x288 with 2 Axes>"
      ]
     },
     "metadata": {
      "needs_background": "light"
     },
     "output_type": "display_data"
    }
   ],
   "source": [
    "# As a benchmarke, let's see if the model did a better job predicting y_test than\n",
    "# just a single feature 'OriginalCT.recommended_True' in the model:\n",
    "cm_single_feature = confusion_matrix(y_test, X_test['OriginalCT.recommended_True'])\n",
    "plt.figure()\n",
    "plot_confusion_matrix(cm_single_feature, classes=['bad','good'], title='Confusion matrix')"
   ]
  },
  {
   "cell_type": "code",
   "execution_count": 41,
   "id": "03e3eda7-76e8-4c3d-acf5-35a7f6d2c717",
   "metadata": {
    "tags": []
   },
   "outputs": [
    {
     "name": "stdout",
     "output_type": "stream",
     "text": [
      "      precision    recall    F-beta  support (n)\n",
      "bad    0.531558  0.608998  0.567649      10358.0\n",
      "good   0.982436  0.976048  0.979231     232089.0\n",
      "\n",
      "balanced_accuracy: 79.3 %\n"
     ]
    }
   ],
   "source": [
    "metrics = pd.DataFrame(precision_recall_fscore_support(y_test, X_test['OriginalCT.recommended_True'])).T\n",
    "metrics.columns = ['precision','recall','F-beta','support (n)']\n",
    "#metrics.columns = ['PPV','sensitivity','F-beta','support (n)']\n",
    "metrics.rename({0:'bad',1:'good'},inplace=True)\n",
    "print(metrics)\n",
    "print('')\n",
    "#print('balanced_accuracy: %.1f%%' %np.mean(100*metrics['recall']))     #escape key for % is %%, oddly\n",
    "print('balanced_accuracy:', str(round(100*np.mean(metrics['recall']),1)) ,'%')"
   ]
  },
  {
   "cell_type": "markdown",
   "id": "509cee83-9f1a-4951-b644-39520c7644c2",
   "metadata": {},
   "source": [
    "The benchmark 'OriginalCT.recommended_True' feature only identified ~61% of the 'bad' observations (recall) in the test set.\n",
    "\n",
    "In comparison, the final RandomForestClassifier(max_depth=25, n_estimators=800, random_state=1) identified ~81% of the bad observations (recall).  This amounts to a 2-fold reduction in number of bad observations mislabeled as 'good'.\n",
    "\n",
    "53% of the observations labeled as bad by benchmark 'OriginalCT.recommended_True' feature actually are bad. In comparison, 40% of the observations labeled as bad by the RandomForest model actually are bad.\n",
    "\n",
    "So relative to the benchmark, the RandomForest classifier throws out more good observations (5.4% vs 2.6%) when trying to grab more bad observations (81% vs 61%)."
   ]
  },
  {
   "cell_type": "code",
   "execution_count": null,
   "id": "e7998748-2f0c-4f1b-8a9f-2f0ca36e6c93",
   "metadata": {},
   "outputs": [],
   "source": []
  }
 ],
 "metadata": {
  "kernelspec": {
   "display_name": "Python 3 (ipykernel)",
   "language": "python",
   "name": "python3"
  },
  "language_info": {
   "codemirror_mode": {
    "name": "ipython",
    "version": 3
   },
   "file_extension": ".py",
   "mimetype": "text/x-python",
   "name": "python",
   "nbconvert_exporter": "python",
   "pygments_lexer": "ipython3",
   "version": "3.8.2"
  }
 },
 "nbformat": 4,
 "nbformat_minor": 5
}
